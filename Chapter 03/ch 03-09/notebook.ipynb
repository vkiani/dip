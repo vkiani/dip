{
 "cells": [
  {
   "cell_type": "code",
   "execution_count": null,
   "id": "c4a4c315",
   "metadata": {},
   "outputs": [],
   "source": [
    "import numpy as np\n",
    "import cv2 as cv\n",
    "import matplotlib.pyplot as plt\n",
    "\n",
    "cap = cv.VideoCapture(0)\n",
    "\n",
    "fourcc = cv.VideoWriter_fourcc(*'XVID')\n",
    "out = cv.VideoWriter('output.avi',fourcc, 20.0, (640,480))\n",
    "\n",
    "for i in range(400):\n",
    "    ret, frame = cap.read()\n",
    "\n",
    "    if (ret == True) & cap.isOpened():\n",
    "        out.write(frame)\n",
    "        \n",
    "        if i % 30 == 0:\n",
    "            plt.imshow(frame)\n",
    "            plt.show()\n",
    "    else:\n",
    "        raise Exception('Can not read image from camera')\n",
    "\n",
    "cap.release()\n",
    "out.release()\n"
   ]
  }
 ],
 "metadata": {
  "kernelspec": {
   "display_name": "Python 3 (ipykernel)",
   "language": "python",
   "name": "python3"
  },
  "language_info": {
   "codemirror_mode": {
    "name": "ipython",
    "version": 3
   },
   "file_extension": ".py",
   "mimetype": "text/x-python",
   "name": "python",
   "nbconvert_exporter": "python",
   "pygments_lexer": "ipython3",
   "version": "3.9.13"
  }
 },
 "nbformat": 4,
 "nbformat_minor": 5
}
