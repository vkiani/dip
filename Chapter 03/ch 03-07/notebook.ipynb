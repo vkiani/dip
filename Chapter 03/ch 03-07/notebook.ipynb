{
 "cells": [
  {
   "cell_type": "code",
   "execution_count": null,
   "id": "754c8c4c",
   "metadata": {},
   "outputs": [],
   "source": [
    "import cv2 as cv\n",
    "import numpy as np\n",
    "import matplotlib.pyplot as plt\n",
    "\n",
    "cap = cv.VideoCapture(0)\n",
    "\n",
    "images = []\n",
    "\n",
    "for i in range(400):\n",
    "    ret, frame = cap.read()\n",
    "\n",
    "    if frame is None:\n",
    "        print('Can not connect to camera')\n",
    "        break\n",
    "    else:\n",
    "        gray = cv.cvtColor(frame, cv.COLOR_BGR2GRAY)\n",
    "        images.append(gray)   \n",
    "        \n",
    "        if i % 30 == 0:\n",
    "            plt.imshow(gray, cmap='gray')\n",
    "            plt.show()\n",
    "\n",
    "cap.release()\n",
    "\n",
    "print( len(images) )"
   ]
  }
 ],
 "metadata": {
  "kernelspec": {
   "display_name": "Python 3 (ipykernel)",
   "language": "python",
   "name": "python3"
  },
  "language_info": {
   "codemirror_mode": {
    "name": "ipython",
    "version": 3
   },
   "file_extension": ".py",
   "mimetype": "text/x-python",
   "name": "python",
   "nbconvert_exporter": "python",
   "pygments_lexer": "ipython3",
   "version": "3.9.13"
  }
 },
 "nbformat": 4,
 "nbformat_minor": 5
}
