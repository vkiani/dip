{
 "cells": [
  {
   "cell_type": "code",
   "execution_count": 1,
   "id": "9aba0dd8",
   "metadata": {},
   "outputs": [],
   "source": [
    "import numpy as np"
   ]
  },
  {
   "cell_type": "code",
   "execution_count": 2,
   "id": "789c21c5",
   "metadata": {},
   "outputs": [
    {
     "name": "stdout",
     "output_type": "stream",
     "text": [
      "[[0 1 2]\n",
      " [3 4 5]]\n",
      "[array([[0, 1, 2]]), array([[3, 4, 5]])]\n",
      "[array([[0, 1, 2]]), array([[3, 4, 5]])]\n"
     ]
    }
   ],
   "source": [
    "x = np.reshape(np.arange(6), (2,3))\n",
    "\n",
    "print(x)\n",
    "print(np.split(x, 2))\n",
    "print(np.split(x, 2, axis = 0))"
   ]
  },
  {
   "cell_type": "code",
   "execution_count": 3,
   "id": "0aacbe1b",
   "metadata": {},
   "outputs": [
    {
     "name": "stdout",
     "output_type": "stream",
     "text": [
      "[array([[0, 1, 2]]), array([[3, 4, 5]])]\n"
     ]
    }
   ],
   "source": [
    "print(np.vsplit(x, 2))"
   ]
  },
  {
   "cell_type": "code",
   "execution_count": 4,
   "id": "cc169f9e",
   "metadata": {},
   "outputs": [
    {
     "name": "stdout",
     "output_type": "stream",
     "text": [
      "[array([[0],\n",
      "       [3]]), array([[1],\n",
      "       [4]]), array([[2],\n",
      "       [5]])]\n"
     ]
    }
   ],
   "source": [
    "print(np.hsplit(x, 3))"
   ]
  },
  {
   "cell_type": "code",
   "execution_count": 5,
   "id": "29ca69c9",
   "metadata": {},
   "outputs": [
    {
     "name": "stdout",
     "output_type": "stream",
     "text": [
      "[0 1 2 3 4 5]\n",
      "[array([0, 1, 2]), array([3, 4, 5])]\n",
      "[array([0, 1, 2]), array([3, 4, 5])]\n",
      "[array([0, 1, 2]), array([3, 4, 5])]\n"
     ]
    }
   ],
   "source": [
    "y = np.arange(6)\n",
    "\n",
    "print(y)\n",
    "\n",
    "print(np.split(y, 2))\n",
    "print(np.split(y, 2, axis=0))\n",
    "print(np.hsplit(y, 2))"
   ]
  }
 ],
 "metadata": {
  "kernelspec": {
   "display_name": "Python 3 (ipykernel)",
   "language": "python",
   "name": "python3"
  },
  "language_info": {
   "codemirror_mode": {
    "name": "ipython",
    "version": 3
   },
   "file_extension": ".py",
   "mimetype": "text/x-python",
   "name": "python",
   "nbconvert_exporter": "python",
   "pygments_lexer": "ipython3",
   "version": "3.9.13"
  }
 },
 "nbformat": 4,
 "nbformat_minor": 5
}
