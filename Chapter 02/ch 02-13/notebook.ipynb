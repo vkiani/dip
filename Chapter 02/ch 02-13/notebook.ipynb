{
 "cells": [
  {
   "cell_type": "code",
   "execution_count": 1,
   "id": "9aba0dd8",
   "metadata": {},
   "outputs": [],
   "source": [
    "import numpy as np"
   ]
  },
  {
   "cell_type": "code",
   "execution_count": 2,
   "id": "789c21c5",
   "metadata": {},
   "outputs": [
    {
     "name": "stdout",
     "output_type": "stream",
     "text": [
      "[[0 1 2]\n",
      " [3 4 5]]\n",
      "[[ 7  8]\n",
      " [ 9 10]\n",
      " [11 12]]\n"
     ]
    }
   ],
   "source": [
    "x = np.reshape(np.arange(6), (2,3))\n",
    "y = np.reshape(np.arange(7,13), (3,2))\n",
    "\n",
    "print(x)\n",
    "print(y)"
   ]
  },
  {
   "cell_type": "code",
   "execution_count": 3,
   "id": "0aacbe1b",
   "metadata": {},
   "outputs": [
    {
     "name": "stdout",
     "output_type": "stream",
     "text": [
      "[[ 31  34]\n",
      " [112 124]]\n"
     ]
    }
   ],
   "source": [
    "print( np.matmul(x,y) )"
   ]
  },
  {
   "cell_type": "code",
   "execution_count": 4,
   "id": "cc169f9e",
   "metadata": {},
   "outputs": [
    {
     "name": "stdout",
     "output_type": "stream",
     "text": [
      "[[ 31  34]\n",
      " [112 124]]\n"
     ]
    }
   ],
   "source": [
    "print( np.dot(x,y) )"
   ]
  },
  {
   "cell_type": "code",
   "execution_count": 5,
   "id": "29ca69c9",
   "metadata": {},
   "outputs": [
    {
     "name": "stdout",
     "output_type": "stream",
     "text": [
      "[[ 31  34]\n",
      " [112 124]]\n"
     ]
    }
   ],
   "source": [
    "print( x @ y )"
   ]
  },
  {
   "cell_type": "code",
   "execution_count": 6,
   "id": "bd63121d",
   "metadata": {},
   "outputs": [
    {
     "name": "stdout",
     "output_type": "stream",
     "text": [
      "[[-0.77777778  0.27777778]\n",
      " [-0.11111111  0.11111111]\n",
      " [ 0.55555556 -0.05555556]]\n",
      "[[ 1.00000000e+00 -4.16333634e-17]\n",
      " [ 4.44089210e-16  1.00000000e+00]]\n"
     ]
    }
   ],
   "source": [
    "z = np.linalg.pinv(x)\n",
    "\n",
    "print(z)\n",
    "print(np.matmul(x,z))"
   ]
  }
 ],
 "metadata": {
  "kernelspec": {
   "display_name": "Python 3 (ipykernel)",
   "language": "python",
   "name": "python3"
  },
  "language_info": {
   "codemirror_mode": {
    "name": "ipython",
    "version": 3
   },
   "file_extension": ".py",
   "mimetype": "text/x-python",
   "name": "python",
   "nbconvert_exporter": "python",
   "pygments_lexer": "ipython3",
   "version": "3.9.13"
  }
 },
 "nbformat": 4,
 "nbformat_minor": 5
}
