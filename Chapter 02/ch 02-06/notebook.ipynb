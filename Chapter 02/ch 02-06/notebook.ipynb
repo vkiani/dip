{
 "cells": [
  {
   "cell_type": "code",
   "execution_count": 1,
   "id": "5bd2b87e",
   "metadata": {},
   "outputs": [],
   "source": [
    "import numpy as np"
   ]
  },
  {
   "cell_type": "code",
   "execution_count": 2,
   "id": "281a5409",
   "metadata": {},
   "outputs": [
    {
     "name": "stdout",
     "output_type": "stream",
     "text": [
      "[1 2 3 4]\n",
      "5\n",
      "[6 7 8 9]\n",
      "[ 5 10 15 20]\n",
      "[-4 -3 -2 -1]\n"
     ]
    }
   ],
   "source": [
    "x = np.array([1,2,3,4])\n",
    "y = 5\n",
    "\n",
    "print(x)\n",
    "print(y)\n",
    "print(x + y)\n",
    "print(x * y)\n",
    "print(x - y)"
   ]
  },
  {
   "cell_type": "code",
   "execution_count": 4,
   "id": "5721b31c",
   "metadata": {},
   "outputs": [
    {
     "name": "stdout",
     "output_type": "stream",
     "text": [
      "[1 2]\n",
      "[[10 10]\n",
      " [10 10]]\n",
      "[[11 12]\n",
      " [11 12]]\n",
      "[[10 20]\n",
      " [10 20]]\n",
      "[[-9 -8]\n",
      " [-9 -8]]\n"
     ]
    }
   ],
   "source": [
    "x = np.array([1,2])\n",
    "y = np.array([[10,10],[10,10]])\n",
    "\n",
    "print(x)\n",
    "print(y)\n",
    "print(x + y)\n",
    "print(x * y)\n",
    "print(x - y)"
   ]
  }
 ],
 "metadata": {
  "kernelspec": {
   "display_name": "Python 3 (ipykernel)",
   "language": "python",
   "name": "python3"
  },
  "language_info": {
   "codemirror_mode": {
    "name": "ipython",
    "version": 3
   },
   "file_extension": ".py",
   "mimetype": "text/x-python",
   "name": "python",
   "nbconvert_exporter": "python",
   "pygments_lexer": "ipython3",
   "version": "3.9.13"
  }
 },
 "nbformat": 4,
 "nbformat_minor": 5
}
